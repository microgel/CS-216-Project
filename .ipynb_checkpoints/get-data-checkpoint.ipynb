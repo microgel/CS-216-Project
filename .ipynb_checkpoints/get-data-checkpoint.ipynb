{
 "cells": [
  {
   "cell_type": "code",
   "execution_count": 2,
   "metadata": {},
   "outputs": [],
   "source": [
    "import pandas_datareader as pdr\n",
    "from datetime import datetime"
   ]
  },
  {
   "cell_type": "markdown",
   "metadata": {},
   "source": [
    "### Get Stock Price data for chosen stock from different sectors (From 1990 to 2020)\n",
    "\n",
    "- S&P 500 index price data as market benchmark (SPY)\n",
    "- Communication Services: Walt Disney Co. (DIS)\n",
    "- Consumer Discretionary: Hilton Worldwide Holdings (HLT)\n",
    "- Consumer Staples: Walmart (WMT)\n",
    "- Energy: Chevron Corp. (CVX)\n",
    "- Financials: Allstate Corp. (ALL)\n",
    "- Health Care: HCA Healthcare (HCA)\n",
    "- Industrials: Alaska Air Group (ALK)\n",
    "- Information Technology: Apple (AAPL)\n",
    "- Materials: Vale S.A. (VALE)\n",
    "- Real Estate: Realty Income Corp. (O)\n",
    "- Utilities: NextEra Energy (NEE)    "
   ]
  },
  {
   "cell_type": "code",
   "execution_count": 3,
   "metadata": {},
   "outputs": [],
   "source": [
    "tickers = ['SPY', 'DIS', 'HLT', 'WMT', 'CVX', 'ALL', 'HCA', 'ALK', 'AAPL', 'VALE', 'O', 'NEE']\n",
    "\n",
    "for ticker in tickers:\n",
    "    df =  pdr.get_data_yahoo(symbols=ticker, start=datetime(1990, 1, 1), end=datetime(2020, 1, 1))\n",
    "    df.to_csv(ticker+'.csv') "
   ]
  }
 ],
 "metadata": {
  "kernelspec": {
   "display_name": "Python 3",
   "language": "python",
   "name": "python3"
  },
  "language_info": {
   "codemirror_mode": {
    "name": "ipython",
    "version": 3
   },
   "file_extension": ".py",
   "mimetype": "text/x-python",
   "name": "python",
   "nbconvert_exporter": "python",
   "pygments_lexer": "ipython3",
   "version": "3.8.5"
  }
 },
 "nbformat": 4,
 "nbformat_minor": 4
}
