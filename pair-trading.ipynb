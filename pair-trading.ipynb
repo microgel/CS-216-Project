{
 "cells": [
  {
   "cell_type": "code",
   "execution_count": 128,
   "metadata": {},
   "outputs": [],
   "source": [
    "# import libraries\n",
    "import pandas_datareader as pdr\n",
    "import pandas as pd\n",
    "from datetime import datetime\n",
    "import matplotlib.pyplot as plt\n",
    "import seaborn as sns\n",
    "import numpy as np\n",
    "from statsmodels.tsa.stattools import coint"
   ]
  },
  {
   "cell_type": "code",
   "execution_count": 44,
   "metadata": {},
   "outputs": [],
   "source": [
    "# import csv file containing information of all stocks from tech industry\n",
    "tech_industry = pd.read_csv('tech-industry.csv')"
   ]
  },
  {
   "cell_type": "code",
   "execution_count": 45,
   "metadata": {},
   "outputs": [
    {
     "data": {
      "text/html": [
       "<div>\n",
       "<style scoped>\n",
       "    .dataframe tbody tr th:only-of-type {\n",
       "        vertical-align: middle;\n",
       "    }\n",
       "\n",
       "    .dataframe tbody tr th {\n",
       "        vertical-align: top;\n",
       "    }\n",
       "\n",
       "    .dataframe thead th {\n",
       "        text-align: right;\n",
       "    }\n",
       "</style>\n",
       "<table border=\"1\" class=\"dataframe\">\n",
       "  <thead>\n",
       "    <tr style=\"text-align: right;\">\n",
       "      <th></th>\n",
       "      <th>Symbol</th>\n",
       "      <th>Name</th>\n",
       "      <th>Last</th>\n",
       "      <th>Change</th>\n",
       "      <th>%Chg</th>\n",
       "      <th>Open</th>\n",
       "      <th>High</th>\n",
       "      <th>Low</th>\n",
       "      <th>Volume</th>\n",
       "      <th>Time</th>\n",
       "    </tr>\n",
       "  </thead>\n",
       "  <tbody>\n",
       "    <tr>\n",
       "      <th>0</th>\n",
       "      <td>AAPL</td>\n",
       "      <td>Apple Inc</td>\n",
       "      <td>127.90</td>\n",
       "      <td>1.69</td>\n",
       "      <td>+1.34%</td>\n",
       "      <td>125.83</td>\n",
       "      <td>127.92</td>\n",
       "      <td>125.14</td>\n",
       "      <td>83466703.0</td>\n",
       "      <td>04/07/21</td>\n",
       "    </tr>\n",
       "    <tr>\n",
       "      <th>1</th>\n",
       "      <td>AMD</td>\n",
       "      <td>Adv Micro Devices</td>\n",
       "      <td>82.20</td>\n",
       "      <td>0.76</td>\n",
       "      <td>+0.93%</td>\n",
       "      <td>81.32</td>\n",
       "      <td>83.10</td>\n",
       "      <td>80.35</td>\n",
       "      <td>35590898.0</td>\n",
       "      <td>04/07/21</td>\n",
       "    </tr>\n",
       "    <tr>\n",
       "      <th>2</th>\n",
       "      <td>MSFT</td>\n",
       "      <td>Microsoft Corp</td>\n",
       "      <td>249.90</td>\n",
       "      <td>2.04</td>\n",
       "      <td>+0.82%</td>\n",
       "      <td>247.81</td>\n",
       "      <td>250.93</td>\n",
       "      <td>247.19</td>\n",
       "      <td>22719801.0</td>\n",
       "      <td>04/07/21</td>\n",
       "    </tr>\n",
       "    <tr>\n",
       "      <th>3</th>\n",
       "      <td>INTC</td>\n",
       "      <td>Intel Corp</td>\n",
       "      <td>66.25</td>\n",
       "      <td>0.69</td>\n",
       "      <td>+1.05%</td>\n",
       "      <td>65.67</td>\n",
       "      <td>66.57</td>\n",
       "      <td>65.36</td>\n",
       "      <td>17793201.0</td>\n",
       "      <td>04/07/21</td>\n",
       "    </tr>\n",
       "    <tr>\n",
       "      <th>4</th>\n",
       "      <td>MU</td>\n",
       "      <td>Micron Technology</td>\n",
       "      <td>93.96</td>\n",
       "      <td>0.47</td>\n",
       "      <td>+0.50%</td>\n",
       "      <td>94.25</td>\n",
       "      <td>95.07</td>\n",
       "      <td>92.54</td>\n",
       "      <td>17621400.0</td>\n",
       "      <td>04/07/21</td>\n",
       "    </tr>\n",
       "  </tbody>\n",
       "</table>\n",
       "</div>"
      ],
      "text/plain": [
       "  Symbol               Name    Last  Change    %Chg    Open    High     Low  \\\n",
       "0   AAPL          Apple Inc  127.90    1.69  +1.34%  125.83  127.92  125.14   \n",
       "1    AMD  Adv Micro Devices   82.20    0.76  +0.93%   81.32   83.10   80.35   \n",
       "2   MSFT     Microsoft Corp  249.90    2.04  +0.82%  247.81  250.93  247.19   \n",
       "3   INTC         Intel Corp   66.25    0.69  +1.05%   65.67   66.57   65.36   \n",
       "4     MU  Micron Technology   93.96    0.47  +0.50%   94.25   95.07   92.54   \n",
       "\n",
       "       Volume      Time  \n",
       "0  83466703.0  04/07/21  \n",
       "1  35590898.0  04/07/21  \n",
       "2  22719801.0  04/07/21  \n",
       "3  17793201.0  04/07/21  \n",
       "4  17621400.0  04/07/21  "
      ]
     },
     "execution_count": 45,
     "metadata": {},
     "output_type": "execute_result"
    }
   ],
   "source": [
    "# display first 5 elements\n",
    "tech_industry.head()"
   ]
  },
  {
   "cell_type": "code",
   "execution_count": 46,
   "metadata": {},
   "outputs": [
    {
     "data": {
      "text/html": [
       "<div>\n",
       "<style scoped>\n",
       "    .dataframe tbody tr th:only-of-type {\n",
       "        vertical-align: middle;\n",
       "    }\n",
       "\n",
       "    .dataframe tbody tr th {\n",
       "        vertical-align: top;\n",
       "    }\n",
       "\n",
       "    .dataframe thead th {\n",
       "        text-align: right;\n",
       "    }\n",
       "</style>\n",
       "<table border=\"1\" class=\"dataframe\">\n",
       "  <thead>\n",
       "    <tr style=\"text-align: right;\">\n",
       "      <th></th>\n",
       "      <th>Symbol</th>\n",
       "      <th>Name</th>\n",
       "      <th>Last</th>\n",
       "      <th>Change</th>\n",
       "      <th>%Chg</th>\n",
       "      <th>Open</th>\n",
       "      <th>High</th>\n",
       "      <th>Low</th>\n",
       "      <th>Volume</th>\n",
       "      <th>Time</th>\n",
       "    </tr>\n",
       "  </thead>\n",
       "  <tbody>\n",
       "    <tr>\n",
       "      <th>0</th>\n",
       "      <td>AAPL</td>\n",
       "      <td>Apple Inc</td>\n",
       "      <td>127.90</td>\n",
       "      <td>1.69</td>\n",
       "      <td>+1.34%</td>\n",
       "      <td>125.83</td>\n",
       "      <td>127.92</td>\n",
       "      <td>125.14</td>\n",
       "      <td>83466703.0</td>\n",
       "      <td>04/07/21</td>\n",
       "    </tr>\n",
       "    <tr>\n",
       "      <th>1</th>\n",
       "      <td>AMD</td>\n",
       "      <td>Adv Micro Devices</td>\n",
       "      <td>82.20</td>\n",
       "      <td>0.76</td>\n",
       "      <td>+0.93%</td>\n",
       "      <td>81.32</td>\n",
       "      <td>83.10</td>\n",
       "      <td>80.35</td>\n",
       "      <td>35590898.0</td>\n",
       "      <td>04/07/21</td>\n",
       "    </tr>\n",
       "    <tr>\n",
       "      <th>2</th>\n",
       "      <td>MSFT</td>\n",
       "      <td>Microsoft Corp</td>\n",
       "      <td>249.90</td>\n",
       "      <td>2.04</td>\n",
       "      <td>+0.82%</td>\n",
       "      <td>247.81</td>\n",
       "      <td>250.93</td>\n",
       "      <td>247.19</td>\n",
       "      <td>22719801.0</td>\n",
       "      <td>04/07/21</td>\n",
       "    </tr>\n",
       "    <tr>\n",
       "      <th>3</th>\n",
       "      <td>INTC</td>\n",
       "      <td>Intel Corp</td>\n",
       "      <td>66.25</td>\n",
       "      <td>0.69</td>\n",
       "      <td>+1.05%</td>\n",
       "      <td>65.67</td>\n",
       "      <td>66.57</td>\n",
       "      <td>65.36</td>\n",
       "      <td>17793201.0</td>\n",
       "      <td>04/07/21</td>\n",
       "    </tr>\n",
       "    <tr>\n",
       "      <th>4</th>\n",
       "      <td>MU</td>\n",
       "      <td>Micron Technology</td>\n",
       "      <td>93.96</td>\n",
       "      <td>0.47</td>\n",
       "      <td>+0.50%</td>\n",
       "      <td>94.25</td>\n",
       "      <td>95.07</td>\n",
       "      <td>92.54</td>\n",
       "      <td>17621400.0</td>\n",
       "      <td>04/07/21</td>\n",
       "    </tr>\n",
       "    <tr>\n",
       "      <th>5</th>\n",
       "      <td>CSCO</td>\n",
       "      <td>Cisco Systems Inc</td>\n",
       "      <td>51.77</td>\n",
       "      <td>-0.26</td>\n",
       "      <td>-0.49%</td>\n",
       "      <td>52.01</td>\n",
       "      <td>52.14</td>\n",
       "      <td>51.58</td>\n",
       "      <td>15783601.0</td>\n",
       "      <td>04/07/21</td>\n",
       "    </tr>\n",
       "    <tr>\n",
       "      <th>6</th>\n",
       "      <td>AMAT</td>\n",
       "      <td>Applied Materials</td>\n",
       "      <td>139.14</td>\n",
       "      <td>-0.40</td>\n",
       "      <td>-0.29%</td>\n",
       "      <td>140.25</td>\n",
       "      <td>141.87</td>\n",
       "      <td>136.82</td>\n",
       "      <td>13702699.0</td>\n",
       "      <td>04/07/21</td>\n",
       "    </tr>\n",
       "    <tr>\n",
       "      <th>7</th>\n",
       "      <td>ORCL</td>\n",
       "      <td>Oracle Corp</td>\n",
       "      <td>74.07</td>\n",
       "      <td>-0.21</td>\n",
       "      <td>-0.28%</td>\n",
       "      <td>73.60</td>\n",
       "      <td>74.18</td>\n",
       "      <td>73.45</td>\n",
       "      <td>12356700.0</td>\n",
       "      <td>04/07/21</td>\n",
       "    </tr>\n",
       "    <tr>\n",
       "      <th>8</th>\n",
       "      <td>PYPL</td>\n",
       "      <td>Paypal Holdings</td>\n",
       "      <td>255.60</td>\n",
       "      <td>2.41</td>\n",
       "      <td>+0.95%</td>\n",
       "      <td>253.07</td>\n",
       "      <td>259.22</td>\n",
       "      <td>251.07</td>\n",
       "      <td>7243200.0</td>\n",
       "      <td>04/07/21</td>\n",
       "    </tr>\n",
       "    <tr>\n",
       "      <th>9</th>\n",
       "      <td>HPE</td>\n",
       "      <td>Hewlett Packard Enterprise Comp</td>\n",
       "      <td>15.90</td>\n",
       "      <td>-0.02</td>\n",
       "      <td>-0.13%</td>\n",
       "      <td>15.90</td>\n",
       "      <td>16.02</td>\n",
       "      <td>15.78</td>\n",
       "      <td>7077000.0</td>\n",
       "      <td>04/07/21</td>\n",
       "    </tr>\n",
       "  </tbody>\n",
       "</table>\n",
       "</div>"
      ],
      "text/plain": [
       "  Symbol                             Name    Last  Change    %Chg    Open  \\\n",
       "0   AAPL                        Apple Inc  127.90    1.69  +1.34%  125.83   \n",
       "1    AMD                Adv Micro Devices   82.20    0.76  +0.93%   81.32   \n",
       "2   MSFT                   Microsoft Corp  249.90    2.04  +0.82%  247.81   \n",
       "3   INTC                       Intel Corp   66.25    0.69  +1.05%   65.67   \n",
       "4     MU                Micron Technology   93.96    0.47  +0.50%   94.25   \n",
       "5   CSCO                Cisco Systems Inc   51.77   -0.26  -0.49%   52.01   \n",
       "6   AMAT                Applied Materials  139.14   -0.40  -0.29%  140.25   \n",
       "7   ORCL                      Oracle Corp   74.07   -0.21  -0.28%   73.60   \n",
       "8   PYPL                  Paypal Holdings  255.60    2.41  +0.95%  253.07   \n",
       "9    HPE  Hewlett Packard Enterprise Comp   15.90   -0.02  -0.13%   15.90   \n",
       "\n",
       "     High     Low      Volume      Time  \n",
       "0  127.92  125.14  83466703.0  04/07/21  \n",
       "1   83.10   80.35  35590898.0  04/07/21  \n",
       "2  250.93  247.19  22719801.0  04/07/21  \n",
       "3   66.57   65.36  17793201.0  04/07/21  \n",
       "4   95.07   92.54  17621400.0  04/07/21  \n",
       "5   52.14   51.58  15783601.0  04/07/21  \n",
       "6  141.87  136.82  13702699.0  04/07/21  \n",
       "7   74.18   73.45  12356700.0  04/07/21  \n",
       "8  259.22  251.07   7243200.0  04/07/21  \n",
       "9   16.02   15.78   7077000.0  04/07/21  "
      ]
     },
     "metadata": {},
     "output_type": "display_data"
    }
   ],
   "source": [
    "# sort tech stocks by trading volume\n",
    "tech_industry = tech_industry.sort_values(by='Volume', ascending=False)\n",
    "\n",
    "# top 10 tech stocks with most trading value\n",
    "tech_industry = tech_industry[:10]\n",
    "\n",
    "# display the dataframe\n",
    "display(tech_industry)"
   ]
  },
  {
   "cell_type": "code",
   "execution_count": 47,
   "metadata": {},
   "outputs": [
    {
     "data": {
      "text/plain": [
       "['AAPL', 'AMD', 'MSFT', 'INTC', 'MU', 'CSCO', 'AMAT', 'ORCL', 'PYPL', 'HPE']"
      ]
     },
     "metadata": {},
     "output_type": "display_data"
    }
   ],
   "source": [
    "# get stock tickers of these 10 stocks as tickers list\n",
    "tickers = tech_industry.Symbol.values.tolist()\n",
    "\n",
    "# display list of tickers\n",
    "display(tickers)"
   ]
  },
  {
   "cell_type": "code",
   "execution_count": 48,
   "metadata": {},
   "outputs": [],
   "source": [
    "# fetch stock price data for each of the tickers from yahoo finance\n",
    "# for the period 2016 to 2020 and save as separate csv files\n",
    "\n",
    "for ticker in tickers:\n",
    "    df =  pdr.get_data_yahoo(symbols=ticker, start = datetime(2016, 1, 1), end = datetime(2020, 1, 1))\n",
    "    df.to_csv(ticker+'.csv') "
   ]
  },
  {
   "cell_type": "code",
   "execution_count": 49,
   "metadata": {},
   "outputs": [],
   "source": [
    "# read apple stock price csv to verify if data has been collected correctly\n",
    "aapl = pd.read_csv('AAPL.csv')"
   ]
  },
  {
   "cell_type": "code",
   "execution_count": 50,
   "metadata": {},
   "outputs": [
    {
     "data": {
      "text/html": [
       "<div>\n",
       "<style scoped>\n",
       "    .dataframe tbody tr th:only-of-type {\n",
       "        vertical-align: middle;\n",
       "    }\n",
       "\n",
       "    .dataframe tbody tr th {\n",
       "        vertical-align: top;\n",
       "    }\n",
       "\n",
       "    .dataframe thead th {\n",
       "        text-align: right;\n",
       "    }\n",
       "</style>\n",
       "<table border=\"1\" class=\"dataframe\">\n",
       "  <thead>\n",
       "    <tr style=\"text-align: right;\">\n",
       "      <th></th>\n",
       "      <th>Date</th>\n",
       "      <th>High</th>\n",
       "      <th>Low</th>\n",
       "      <th>Open</th>\n",
       "      <th>Close</th>\n",
       "      <th>Volume</th>\n",
       "      <th>Adj Close</th>\n",
       "    </tr>\n",
       "  </thead>\n",
       "  <tbody>\n",
       "    <tr>\n",
       "      <th>0</th>\n",
       "      <td>2015-12-31</td>\n",
       "      <td>26.757500</td>\n",
       "      <td>26.205000</td>\n",
       "      <td>26.752501</td>\n",
       "      <td>26.315001</td>\n",
       "      <td>163649200.0</td>\n",
       "      <td>24.343718</td>\n",
       "    </tr>\n",
       "    <tr>\n",
       "      <th>1</th>\n",
       "      <td>2016-01-04</td>\n",
       "      <td>26.342501</td>\n",
       "      <td>25.500000</td>\n",
       "      <td>25.652500</td>\n",
       "      <td>26.337500</td>\n",
       "      <td>270597600.0</td>\n",
       "      <td>24.364536</td>\n",
       "    </tr>\n",
       "    <tr>\n",
       "      <th>2</th>\n",
       "      <td>2016-01-05</td>\n",
       "      <td>26.462500</td>\n",
       "      <td>25.602501</td>\n",
       "      <td>26.437500</td>\n",
       "      <td>25.677500</td>\n",
       "      <td>223164000.0</td>\n",
       "      <td>23.753977</td>\n",
       "    </tr>\n",
       "    <tr>\n",
       "      <th>3</th>\n",
       "      <td>2016-01-06</td>\n",
       "      <td>25.592501</td>\n",
       "      <td>24.967501</td>\n",
       "      <td>25.139999</td>\n",
       "      <td>25.174999</td>\n",
       "      <td>273829600.0</td>\n",
       "      <td>23.289116</td>\n",
       "    </tr>\n",
       "    <tr>\n",
       "      <th>4</th>\n",
       "      <td>2016-01-07</td>\n",
       "      <td>25.032499</td>\n",
       "      <td>24.107500</td>\n",
       "      <td>24.670000</td>\n",
       "      <td>24.112499</td>\n",
       "      <td>324377600.0</td>\n",
       "      <td>22.306208</td>\n",
       "    </tr>\n",
       "  </tbody>\n",
       "</table>\n",
       "</div>"
      ],
      "text/plain": [
       "         Date       High        Low       Open      Close       Volume  \\\n",
       "0  2015-12-31  26.757500  26.205000  26.752501  26.315001  163649200.0   \n",
       "1  2016-01-04  26.342501  25.500000  25.652500  26.337500  270597600.0   \n",
       "2  2016-01-05  26.462500  25.602501  26.437500  25.677500  223164000.0   \n",
       "3  2016-01-06  25.592501  24.967501  25.139999  25.174999  273829600.0   \n",
       "4  2016-01-07  25.032499  24.107500  24.670000  24.112499  324377600.0   \n",
       "\n",
       "   Adj Close  \n",
       "0  24.343718  \n",
       "1  24.364536  \n",
       "2  23.753977  \n",
       "3  23.289116  \n",
       "4  22.306208  "
      ]
     },
     "execution_count": 50,
     "metadata": {},
     "output_type": "execute_result"
    }
   ],
   "source": [
    "# display first 5 \n",
    "aapl.head()"
   ]
  },
  {
   "cell_type": "code",
   "execution_count": 51,
   "metadata": {
    "scrolled": false
   },
   "outputs": [
    {
     "data": {
      "text/html": [
       "<div>\n",
       "<style scoped>\n",
       "    .dataframe tbody tr th:only-of-type {\n",
       "        vertical-align: middle;\n",
       "    }\n",
       "\n",
       "    .dataframe tbody tr th {\n",
       "        vertical-align: top;\n",
       "    }\n",
       "\n",
       "    .dataframe thead th {\n",
       "        text-align: right;\n",
       "    }\n",
       "</style>\n",
       "<table border=\"1\" class=\"dataframe\">\n",
       "  <thead>\n",
       "    <tr style=\"text-align: right;\">\n",
       "      <th></th>\n",
       "      <th>Date</th>\n",
       "      <th>High</th>\n",
       "      <th>Low</th>\n",
       "      <th>Open</th>\n",
       "      <th>Close</th>\n",
       "      <th>Volume</th>\n",
       "      <th>Adj Close</th>\n",
       "    </tr>\n",
       "  </thead>\n",
       "  <tbody>\n",
       "    <tr>\n",
       "      <th>1002</th>\n",
       "      <td>2019-12-24</td>\n",
       "      <td>71.222504</td>\n",
       "      <td>70.730003</td>\n",
       "      <td>71.172501</td>\n",
       "      <td>71.067497</td>\n",
       "      <td>48478800.0</td>\n",
       "      <td>70.353882</td>\n",
       "    </tr>\n",
       "    <tr>\n",
       "      <th>1003</th>\n",
       "      <td>2019-12-26</td>\n",
       "      <td>72.495003</td>\n",
       "      <td>71.175003</td>\n",
       "      <td>71.205002</td>\n",
       "      <td>72.477501</td>\n",
       "      <td>93121200.0</td>\n",
       "      <td>71.749733</td>\n",
       "    </tr>\n",
       "    <tr>\n",
       "      <th>1004</th>\n",
       "      <td>2019-12-27</td>\n",
       "      <td>73.492500</td>\n",
       "      <td>72.029999</td>\n",
       "      <td>72.779999</td>\n",
       "      <td>72.449997</td>\n",
       "      <td>146266000.0</td>\n",
       "      <td>71.722488</td>\n",
       "    </tr>\n",
       "    <tr>\n",
       "      <th>1005</th>\n",
       "      <td>2019-12-30</td>\n",
       "      <td>73.172501</td>\n",
       "      <td>71.305000</td>\n",
       "      <td>72.364998</td>\n",
       "      <td>72.879997</td>\n",
       "      <td>144114400.0</td>\n",
       "      <td>72.148178</td>\n",
       "    </tr>\n",
       "    <tr>\n",
       "      <th>1006</th>\n",
       "      <td>2019-12-31</td>\n",
       "      <td>73.419998</td>\n",
       "      <td>72.379997</td>\n",
       "      <td>72.482498</td>\n",
       "      <td>73.412498</td>\n",
       "      <td>100805600.0</td>\n",
       "      <td>72.675339</td>\n",
       "    </tr>\n",
       "  </tbody>\n",
       "</table>\n",
       "</div>"
      ],
      "text/plain": [
       "            Date       High        Low       Open      Close       Volume  \\\n",
       "1002  2019-12-24  71.222504  70.730003  71.172501  71.067497   48478800.0   \n",
       "1003  2019-12-26  72.495003  71.175003  71.205002  72.477501   93121200.0   \n",
       "1004  2019-12-27  73.492500  72.029999  72.779999  72.449997  146266000.0   \n",
       "1005  2019-12-30  73.172501  71.305000  72.364998  72.879997  144114400.0   \n",
       "1006  2019-12-31  73.419998  72.379997  72.482498  73.412498  100805600.0   \n",
       "\n",
       "      Adj Close  \n",
       "1002  70.353882  \n",
       "1003  71.749733  \n",
       "1004  71.722488  \n",
       "1005  72.148178  \n",
       "1006  72.675339  "
      ]
     },
     "execution_count": 51,
     "metadata": {},
     "output_type": "execute_result"
    }
   ],
   "source": [
    "# display last 5 rows\n",
    "aapl.tail()"
   ]
  },
  {
   "cell_type": "code",
   "execution_count": 52,
   "metadata": {},
   "outputs": [],
   "source": [
    "# Success! Data has been fetched correctly. Now we will clean the data as per our requirements\n",
    "# We only need Date and Adj Close column values for each of the stocks\n",
    "# We choose Adj Close over just the close price because the Adj Close \n",
    "# is normalized prices according to the individual stock's historical dividends, splits, etc.\n",
    "# and hence, better quality price data than just the close price"
   ]
  },
  {
   "cell_type": "code",
   "execution_count": 53,
   "metadata": {},
   "outputs": [],
   "source": [
    "# create new price dataframe\n",
    "price = pd.DataFrame()"
   ]
  },
  {
   "cell_type": "code",
   "execution_count": 56,
   "metadata": {},
   "outputs": [],
   "source": [
    "# for each of the ticker, add the corresponding adjusted close price to the combined price dataframe\n",
    "for ticker in tickers:\n",
    "    df = pd.read_csv(ticker+'.csv')\n",
    "    price['date'] = df['Date']\n",
    "    price[ticker+'_close'] = df['Adj Close']\n",
    "    "
   ]
  },
  {
   "cell_type": "code",
   "execution_count": 65,
   "metadata": {
    "scrolled": true
   },
   "outputs": [
    {
     "data": {
      "text/html": [
       "<div>\n",
       "<style scoped>\n",
       "    .dataframe tbody tr th:only-of-type {\n",
       "        vertical-align: middle;\n",
       "    }\n",
       "\n",
       "    .dataframe tbody tr th {\n",
       "        vertical-align: top;\n",
       "    }\n",
       "\n",
       "    .dataframe thead th {\n",
       "        text-align: right;\n",
       "    }\n",
       "</style>\n",
       "<table border=\"1\" class=\"dataframe\">\n",
       "  <thead>\n",
       "    <tr style=\"text-align: right;\">\n",
       "      <th></th>\n",
       "      <th>date</th>\n",
       "      <th>AAPL_close</th>\n",
       "      <th>AMD_close</th>\n",
       "      <th>MSFT_close</th>\n",
       "      <th>INTC_close</th>\n",
       "      <th>MU_close</th>\n",
       "      <th>CSCO_close</th>\n",
       "      <th>AMAT_close</th>\n",
       "      <th>ORCL_close</th>\n",
       "      <th>PYPL_close</th>\n",
       "      <th>HPE_close</th>\n",
       "    </tr>\n",
       "  </thead>\n",
       "  <tbody>\n",
       "    <tr>\n",
       "      <th>0</th>\n",
       "      <td>2015-12-31</td>\n",
       "      <td>24.343718</td>\n",
       "      <td>2.87</td>\n",
       "      <td>50.510929</td>\n",
       "      <td>29.935064</td>\n",
       "      <td>14.16</td>\n",
       "      <td>22.774519</td>\n",
       "      <td>17.321833</td>\n",
       "      <td>33.539711</td>\n",
       "      <td>36.200001</td>\n",
       "      <td>7.771190</td>\n",
       "    </tr>\n",
       "    <tr>\n",
       "      <th>1</th>\n",
       "      <td>2016-01-04</td>\n",
       "      <td>24.364536</td>\n",
       "      <td>2.77</td>\n",
       "      <td>49.891834</td>\n",
       "      <td>29.535355</td>\n",
       "      <td>14.33</td>\n",
       "      <td>22.318188</td>\n",
       "      <td>17.136276</td>\n",
       "      <td>32.958900</td>\n",
       "      <td>34.750000</td>\n",
       "      <td>7.735402</td>\n",
       "    </tr>\n",
       "    <tr>\n",
       "      <th>2</th>\n",
       "      <td>2016-01-05</td>\n",
       "      <td>23.753977</td>\n",
       "      <td>2.75</td>\n",
       "      <td>50.119446</td>\n",
       "      <td>29.396330</td>\n",
       "      <td>14.82</td>\n",
       "      <td>22.216778</td>\n",
       "      <td>17.154827</td>\n",
       "      <td>32.857491</td>\n",
       "      <td>34.310001</td>\n",
       "      <td>7.684277</td>\n",
       "    </tr>\n",
       "    <tr>\n",
       "      <th>3</th>\n",
       "      <td>2016-01-06</td>\n",
       "      <td>23.289116</td>\n",
       "      <td>2.51</td>\n",
       "      <td>49.209011</td>\n",
       "      <td>28.744617</td>\n",
       "      <td>14.22</td>\n",
       "      <td>21.980158</td>\n",
       "      <td>16.449711</td>\n",
       "      <td>33.023438</td>\n",
       "      <td>33.980000</td>\n",
       "      <td>7.566686</td>\n",
       "    </tr>\n",
       "    <tr>\n",
       "      <th>4</th>\n",
       "      <td>2016-01-07</td>\n",
       "      <td>22.306208</td>\n",
       "      <td>2.28</td>\n",
       "      <td>47.497398</td>\n",
       "      <td>27.667130</td>\n",
       "      <td>13.66</td>\n",
       "      <td>21.473118</td>\n",
       "      <td>15.967264</td>\n",
       "      <td>32.304333</td>\n",
       "      <td>33.130001</td>\n",
       "      <td>7.009409</td>\n",
       "    </tr>\n",
       "  </tbody>\n",
       "</table>\n",
       "</div>"
      ],
      "text/plain": [
       "         date  AAPL_close  AMD_close  MSFT_close  INTC_close  MU_close  \\\n",
       "0  2015-12-31   24.343718       2.87   50.510929   29.935064     14.16   \n",
       "1  2016-01-04   24.364536       2.77   49.891834   29.535355     14.33   \n",
       "2  2016-01-05   23.753977       2.75   50.119446   29.396330     14.82   \n",
       "3  2016-01-06   23.289116       2.51   49.209011   28.744617     14.22   \n",
       "4  2016-01-07   22.306208       2.28   47.497398   27.667130     13.66   \n",
       "\n",
       "   CSCO_close  AMAT_close  ORCL_close  PYPL_close  HPE_close  \n",
       "0   22.774519   17.321833   33.539711   36.200001   7.771190  \n",
       "1   22.318188   17.136276   32.958900   34.750000   7.735402  \n",
       "2   22.216778   17.154827   32.857491   34.310001   7.684277  \n",
       "3   21.980158   16.449711   33.023438   33.980000   7.566686  \n",
       "4   21.473118   15.967264   32.304333   33.130001   7.009409  "
      ]
     },
     "metadata": {},
     "output_type": "display_data"
    }
   ],
   "source": [
    "# display combined price data frame first 5 values\n",
    "display(price.head())"
   ]
  },
  {
   "cell_type": "code",
   "execution_count": 61,
   "metadata": {},
   "outputs": [
    {
     "data": {
      "text/plain": [
       "False"
      ]
     },
     "execution_count": 61,
     "metadata": {},
     "output_type": "execute_result"
    }
   ],
   "source": [
    "# check if any values are missing\n",
    "price.isnull().values.any()"
   ]
  },
  {
   "cell_type": "code",
   "execution_count": 62,
   "metadata": {},
   "outputs": [],
   "source": [
    "# Awesome! We have succesfully combined the required data"
   ]
  },
  {
   "cell_type": "code",
   "execution_count": 66,
   "metadata": {},
   "outputs": [],
   "source": [
    "# set date column as index\n",
    "price = price.set_index('date')"
   ]
  },
  {
   "cell_type": "code",
   "execution_count": 109,
   "metadata": {},
   "outputs": [
    {
     "data": {
      "text/plain": [
       "(1007, 10)"
      ]
     },
     "execution_count": 109,
     "metadata": {},
     "output_type": "execute_result"
    }
   ],
   "source": [
    "price.shape"
   ]
  },
  {
   "cell_type": "code",
   "execution_count": 113,
   "metadata": {},
   "outputs": [],
   "source": [
    "# Now we will split our dataset into train and test data\n",
    "# we will use 2 years data as training and 2 years data as testing\n",
    "# roughly splitting the dataset into 2 parts"
   ]
  },
  {
   "cell_type": "code",
   "execution_count": 114,
   "metadata": {},
   "outputs": [
    {
     "data": {
      "text/plain": [
       "(507, 10)"
      ]
     },
     "execution_count": 114,
     "metadata": {},
     "output_type": "execute_result"
    }
   ],
   "source": [
    "train_data = price[:507]\n",
    "train_data.shape"
   ]
  },
  {
   "cell_type": "code",
   "execution_count": 115,
   "metadata": {},
   "outputs": [],
   "source": [
    "# train data starting from 2015-12-31 to 2018-01-04 (507 values)"
   ]
  },
  {
   "cell_type": "code",
   "execution_count": 116,
   "metadata": {},
   "outputs": [
    {
     "data": {
      "text/plain": [
       "(500, 10)"
      ]
     },
     "execution_count": 116,
     "metadata": {},
     "output_type": "execute_result"
    }
   ],
   "source": [
    "test_data = price[507:]\n",
    "test_data.shape"
   ]
  },
  {
   "cell_type": "code",
   "execution_count": 117,
   "metadata": {},
   "outputs": [],
   "source": [
    "# test data starting from 2018-01-05 to 2019-12-31 (500 values)"
   ]
  },
  {
   "cell_type": "code",
   "execution_count": 118,
   "metadata": {},
   "outputs": [],
   "source": [
    "# from this point on we will be working only with our training data intil we get to the testing phase"
   ]
  },
  {
   "cell_type": "code",
   "execution_count": 119,
   "metadata": {},
   "outputs": [
    {
     "data": {
      "text/plain": [
       "Text(0.5, 1.0, 'autocorrelation matrix')"
      ]
     },
     "execution_count": 119,
     "metadata": {},
     "output_type": "execute_result"
    },
    {
     "data": {
      "image/png": "[encoded data removed]",
      "text/plain": [
       "<Figure size 648x576 with 2 Axes>"
      ]
     },
     "metadata": {
      "needs_background": "light"
     },
     "output_type": "display_data"
    }
   ],
   "source": [
    "# plot correlation matrix of all pairs of stocks using training data\n",
    "# using pearson method : standard correlation coefficient\n",
    "fig, ax = plt.subplots(figsize=(9,8))\n",
    "sns.heatmap(train_data.corr(method='pearson'), ax=ax, cmap='coolwarm', annot=True) \n",
    "ax.set_title('autocorrelation matrix')"
   ]
  },
  {
   "cell_type": "code",
   "execution_count": 121,
   "metadata": {},
   "outputs": [],
   "source": [
    "# ranking all unique stock pairs based on correlation computed above (descending order) \n",
    "pair_ranks = train_data.corr(method='pearson').stack().sort_values(ascending=False).reset_index()\n",
    "pair_ranks = pair_ranks[pair_ranks.level_0 < pair_ranks.level_1].reset_index().drop(columns='index')\n",
    "pair_ranks = pair_ranks.rename(columns={'level_0': 'stock1', 'level_1': 'stock2'})"
   ]
  },
  {
   "cell_type": "code",
   "execution_count": 148,
   "metadata": {
    "scrolled": true
   },
   "outputs": [
    {
     "data": {
      "text/html": [
       "<div>\n",
       "<style scoped>\n",
       "    .dataframe tbody tr th:only-of-type {\n",
       "        vertical-align: middle;\n",
       "    }\n",
       "\n",
       "    .dataframe tbody tr th {\n",
       "        vertical-align: top;\n",
       "    }\n",
       "\n",
       "    .dataframe thead th {\n",
       "        text-align: right;\n",
       "    }\n",
       "</style>\n",
       "<table border=\"1\" class=\"dataframe\">\n",
       "  <thead>\n",
       "    <tr style=\"text-align: right;\">\n",
       "      <th></th>\n",
       "      <th>stock1</th>\n",
       "      <th>stock2</th>\n",
       "      <th>0</th>\n",
       "    </tr>\n",
       "  </thead>\n",
       "  <tbody>\n",
       "    <tr>\n",
       "      <th>0</th>\n",
       "      <td>MSFT_close</td>\n",
       "      <td>MU_close</td>\n",
       "      <td>0.981962</td>\n",
       "    </tr>\n",
       "    <tr>\n",
       "      <th>1</th>\n",
       "      <td>AMAT_close</td>\n",
       "      <td>MU_close</td>\n",
       "      <td>0.980960</td>\n",
       "    </tr>\n",
       "    <tr>\n",
       "      <th>2</th>\n",
       "      <td>AMAT_close</td>\n",
       "      <td>MSFT_close</td>\n",
       "      <td>0.972609</td>\n",
       "    </tr>\n",
       "    <tr>\n",
       "      <th>3</th>\n",
       "      <td>AAPL_close</td>\n",
       "      <td>MSFT_close</td>\n",
       "      <td>0.971415</td>\n",
       "    </tr>\n",
       "    <tr>\n",
       "      <th>4</th>\n",
       "      <td>AAPL_close</td>\n",
       "      <td>AMAT_close</td>\n",
       "      <td>0.961919</td>\n",
       "    </tr>\n",
       "  </tbody>\n",
       "</table>\n",
       "</div>"
      ],
      "text/plain": [
       "       stock1      stock2         0\n",
       "0  MSFT_close    MU_close  0.981962\n",
       "1  AMAT_close    MU_close  0.980960\n",
       "2  AMAT_close  MSFT_close  0.972609\n",
       "3  AAPL_close  MSFT_close  0.971415\n",
       "4  AAPL_close  AMAT_close  0.961919"
      ]
     },
     "execution_count": 148,
     "metadata": {},
     "output_type": "execute_result"
    }
   ],
   "source": [
    "# display top 5 correlated pairs\n",
    "pair_ranks.head()"
   ]
  },
  {
   "cell_type": "code",
   "execution_count": null,
   "metadata": {},
   "outputs": [],
   "source": [
    "# Now we will test for cointegration"
   ]
  },
  {
   "cell_type": "code",
   "execution_count": 142,
   "metadata": {},
   "outputs": [],
   "source": [
    "# function to find cointegrated pairs\n",
    "def find_cointegrated_pairs(data):\n",
    "    n = data.shape[1]\n",
    "    pvalue_matrix = np.ones((n, n))\n",
    "    keys = data.keys()\n",
    "    pairs = []\n",
    "    for i in range(n):\n",
    "        for j in range(i+1, n):\n",
    "            result = coint(data[keys[i]], data[keys[j]])\n",
    "            pvalue_matrix[i, j] = result[1]\n",
    "            if result[1] < 0.05:\n",
    "                pairs.append((keys[i], keys[j]))\n",
    "    return pvalue_matrix, pairs"
   ]
  },
  {
   "cell_type": "code",
   "execution_count": null,
   "metadata": {},
   "outputs": [],
   "source": []
  },
  {
   "cell_type": "code",
   "execution_count": 143,
   "metadata": {},
   "outputs": [
    {
     "data": {
      "image/png": "[encoded data removed]",
      "text/plain": [
       "<Figure size 648x576 with 2 Axes>"
      ]
     },
     "metadata": {
      "needs_background": "light"
     },
     "output_type": "display_data"
    }
   ],
   "source": [
    "# plot the heatmap\n",
    "fig, ax = plt.subplots(figsize=(9,8))\n",
    "sns.heatmap(pvalues, xticklabels = train_data.columns, yticklabels = train_data.columns, \n",
    "            cmap = 'coolwarm', annot = True, fmt=\".4f\", mask = (pvalues >= 0.99))\n",
    "ax.set_title('Assets Cointegration Matrix p-values Between Pairs')\n",
    "plt.tight_layout()"
   ]
  },
  {
   "cell_type": "code",
   "execution_count": 145,
   "metadata": {},
   "outputs": [
    {
     "data": {
      "text/plain": [
       "[('AAPL_close', 'MU_close'), ('MSFT_close', 'MU_close')]"
      ]
     },
     "metadata": {},
     "output_type": "display_data"
    }
   ],
   "source": [
    "# find best pairs based on cointegration\n",
    "pvalues, pairs = find_cointegrated_pairs(train_data)\n",
    "\n",
    "# display the pairs\n",
    "display(pairs)"
   ]
  },
  {
   "cell_type": "code",
   "execution_count": 146,
   "metadata": {},
   "outputs": [],
   "source": [
    "# we notice that MSFT and MU pair is highly ranked on the basis of both correlation and cointegration test\n",
    "# based on the statistical significance we will choose the MSFT and MU pair to develop our strategy moving forward"
   ]
  },
  {
   "cell_type": "code",
   "execution_count": 150,
   "metadata": {},
   "outputs": [],
   "source": [
    "# chosen pair\n",
    "stock1 = 'MSFT_close'\n",
    "stock2 = 'MU_close'"
   ]
  },
  {
   "cell_type": "code",
   "execution_count": 151,
   "metadata": {},
   "outputs": [],
   "source": [
    "# create a train dataframe of 2 assets\n",
    "train = pd.DataFrame()\n",
    "train['stock1'] = train_data[stock1]\n",
    "train['stock2'] = train_data[stock2]"
   ]
  },
  {
   "cell_type": "code",
   "execution_count": 154,
   "metadata": {},
   "outputs": [
    {
     "data": {
      "text/html": [
       "<div>\n",
       "<style scoped>\n",
       "    .dataframe tbody tr th:only-of-type {\n",
       "        vertical-align: middle;\n",
       "    }\n",
       "\n",
       "    .dataframe tbody tr th {\n",
       "        vertical-align: top;\n",
       "    }\n",
       "\n",
       "    .dataframe thead th {\n",
       "        text-align: right;\n",
       "    }\n",
       "</style>\n",
       "<table border=\"1\" class=\"dataframe\">\n",
       "  <thead>\n",
       "    <tr style=\"text-align: right;\">\n",
       "      <th></th>\n",
       "      <th>stock1</th>\n",
       "      <th>stock2</th>\n",
       "    </tr>\n",
       "    <tr>\n",
       "      <th>date</th>\n",
       "      <th></th>\n",
       "      <th></th>\n",
       "    </tr>\n",
       "  </thead>\n",
       "  <tbody>\n",
       "    <tr>\n",
       "      <th>2015-12-31</th>\n",
       "      <td>50.510929</td>\n",
       "      <td>14.16</td>\n",
       "    </tr>\n",
       "    <tr>\n",
       "      <th>2016-01-04</th>\n",
       "      <td>49.891834</td>\n",
       "      <td>14.33</td>\n",
       "    </tr>\n",
       "    <tr>\n",
       "      <th>2016-01-05</th>\n",
       "      <td>50.119446</td>\n",
       "      <td>14.82</td>\n",
       "    </tr>\n",
       "    <tr>\n",
       "      <th>2016-01-06</th>\n",
       "      <td>49.209011</td>\n",
       "      <td>14.22</td>\n",
       "    </tr>\n",
       "    <tr>\n",
       "      <th>2016-01-07</th>\n",
       "      <td>47.497398</td>\n",
       "      <td>13.66</td>\n",
       "    </tr>\n",
       "  </tbody>\n",
       "</table>\n",
       "</div>"
      ],
      "text/plain": [
       "               stock1  stock2\n",
       "date                         \n",
       "2015-12-31  50.510929   14.16\n",
       "2016-01-04  49.891834   14.33\n",
       "2016-01-05  50.119446   14.82\n",
       "2016-01-06  49.209011   14.22\n",
       "2016-01-07  47.497398   13.66"
      ]
     },
     "execution_count": 154,
     "metadata": {},
     "output_type": "execute_result"
    }
   ],
   "source": [
    "# display first 5 rows\n",
    "train.head()"
   ]
  },
  {
   "cell_type": "code",
   "execution_count": 161,
   "metadata": {},
   "outputs": [
    {
     "data": {
      "image/png": "[encoded data removed]",
      "text/plain": [
       "<Figure size 1440x720 with 1 Axes>"
      ]
     },
     "metadata": {
      "needs_background": "light"
     },
     "output_type": "display_data"
    }
   ],
   "source": [
    "# visualize closing prices of both stocks from training data\n",
    "ax = train[['stock1','stock2']].plot(figsize=(20, 10), title = 'Daily Chart for {} and {}'.format(stock1,stock2))\n",
    "ax.set_ylabel(\"Closing Price\")\n",
    "ax.grid(True)"
   ]
  },
  {
   "cell_type": "code",
   "execution_count": null,
   "metadata": {},
   "outputs": [],
   "source": []
  }
 ],
 "metadata": {
  "kernelspec": {
   "display_name": "Python 3",
   "language": "python",
   "name": "python3"
  },
  "language_info": {
   "codemirror_mode": {
    "name": "ipython",
    "version": 3
   },
   "file_extension": ".py",
   "mimetype": "text/x-python",
   "name": "python",
   "nbconvert_exporter": "python",
   "pygments_lexer": "ipython3",
   "version": "3.8.5"
  }
 },
 "nbformat": 4,
 "nbformat_minor": 4
}
